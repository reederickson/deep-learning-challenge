{
  "cells": [
    {
      "cell_type": "markdown",
      "metadata": {
        "id": "view-in-github",
        "colab_type": "text"
      },
      "source": [
        "<a href=\"https://colab.research.google.com/github/reederickson/deep-learning-challenge/blob/main/AlphabetSoupCharity_Optimization.ipynb\" target=\"_parent\"><img src=\"https://colab.research.google.com/assets/colab-badge.svg\" alt=\"Open In Colab\"/></a>"
      ]
    },
    {
      "cell_type": "markdown",
      "metadata": {
        "id": "dwC_26z-1hrd"
      },
      "source": [
        "## Preprocessing"
      ]
    },
    {
      "cell_type": "code",
      "execution_count": 1,
      "metadata": {
        "colab": {
          "base_uri": "https://localhost:8080/",
          "height": 452
        },
        "id": "0y7riK8e1hre",
        "outputId": "bf638179-9541-48de-e349-42026acce200"
      },
      "outputs": [
        {
          "output_type": "execute_result",
          "data": {
            "text/plain": [
              "        EIN                                      NAME APPLICATION_TYPE  \\\n",
              "0  10520599              BLUE KNIGHTS MOTORCYCLE CLUB              T10   \n",
              "1  10531628    AMERICAN CHESAPEAKE CLUB CHARITABLE TR               T3   \n",
              "2  10547893        ST CLOUD PROFESSIONAL FIREFIGHTERS               T5   \n",
              "3  10553066            SOUTHSIDE ATHLETIC ASSOCIATION               T3   \n",
              "4  10556103  GENETIC RESEARCH INSTITUTE OF THE DESERT               T3   \n",
              "\n",
              "        AFFILIATION CLASSIFICATION      USE_CASE  ORGANIZATION  STATUS  \\\n",
              "0       Independent          C1000    ProductDev   Association       1   \n",
              "1       Independent          C2000  Preservation  Co-operative       1   \n",
              "2  CompanySponsored          C3000    ProductDev   Association       1   \n",
              "3  CompanySponsored          C2000  Preservation         Trust       1   \n",
              "4       Independent          C1000     Heathcare         Trust       1   \n",
              "\n",
              "      INCOME_AMT SPECIAL_CONSIDERATIONS  ASK_AMT  IS_SUCCESSFUL  \n",
              "0              0                      N     5000              1  \n",
              "1         1-9999                      N   108590              1  \n",
              "2              0                      N     5000              0  \n",
              "3    10000-24999                      N     6692              1  \n",
              "4  100000-499999                      N   142590              1  "
            ],
            "text/html": [
              "\n",
              "  <div id=\"df-0ec390bd-9d28-4542-b7d7-fc2ed75be97a\" class=\"colab-df-container\">\n",
              "    <div>\n",
              "<style scoped>\n",
              "    .dataframe tbody tr th:only-of-type {\n",
              "        vertical-align: middle;\n",
              "    }\n",
              "\n",
              "    .dataframe tbody tr th {\n",
              "        vertical-align: top;\n",
              "    }\n",
              "\n",
              "    .dataframe thead th {\n",
              "        text-align: right;\n",
              "    }\n",
              "</style>\n",
              "<table border=\"1\" class=\"dataframe\">\n",
              "  <thead>\n",
              "    <tr style=\"text-align: right;\">\n",
              "      <th></th>\n",
              "      <th>EIN</th>\n",
              "      <th>NAME</th>\n",
              "      <th>APPLICATION_TYPE</th>\n",
              "      <th>AFFILIATION</th>\n",
              "      <th>CLASSIFICATION</th>\n",
              "      <th>USE_CASE</th>\n",
              "      <th>ORGANIZATION</th>\n",
              "      <th>STATUS</th>\n",
              "      <th>INCOME_AMT</th>\n",
              "      <th>SPECIAL_CONSIDERATIONS</th>\n",
              "      <th>ASK_AMT</th>\n",
              "      <th>IS_SUCCESSFUL</th>\n",
              "    </tr>\n",
              "  </thead>\n",
              "  <tbody>\n",
              "    <tr>\n",
              "      <th>0</th>\n",
              "      <td>10520599</td>\n",
              "      <td>BLUE KNIGHTS MOTORCYCLE CLUB</td>\n",
              "      <td>T10</td>\n",
              "      <td>Independent</td>\n",
              "      <td>C1000</td>\n",
              "      <td>ProductDev</td>\n",
              "      <td>Association</td>\n",
              "      <td>1</td>\n",
              "      <td>0</td>\n",
              "      <td>N</td>\n",
              "      <td>5000</td>\n",
              "      <td>1</td>\n",
              "    </tr>\n",
              "    <tr>\n",
              "      <th>1</th>\n",
              "      <td>10531628</td>\n",
              "      <td>AMERICAN CHESAPEAKE CLUB CHARITABLE TR</td>\n",
              "      <td>T3</td>\n",
              "      <td>Independent</td>\n",
              "      <td>C2000</td>\n",
              "      <td>Preservation</td>\n",
              "      <td>Co-operative</td>\n",
              "      <td>1</td>\n",
              "      <td>1-9999</td>\n",
              "      <td>N</td>\n",
              "      <td>108590</td>\n",
              "      <td>1</td>\n",
              "    </tr>\n",
              "    <tr>\n",
              "      <th>2</th>\n",
              "      <td>10547893</td>\n",
              "      <td>ST CLOUD PROFESSIONAL FIREFIGHTERS</td>\n",
              "      <td>T5</td>\n",
              "      <td>CompanySponsored</td>\n",
              "      <td>C3000</td>\n",
              "      <td>ProductDev</td>\n",
              "      <td>Association</td>\n",
              "      <td>1</td>\n",
              "      <td>0</td>\n",
              "      <td>N</td>\n",
              "      <td>5000</td>\n",
              "      <td>0</td>\n",
              "    </tr>\n",
              "    <tr>\n",
              "      <th>3</th>\n",
              "      <td>10553066</td>\n",
              "      <td>SOUTHSIDE ATHLETIC ASSOCIATION</td>\n",
              "      <td>T3</td>\n",
              "      <td>CompanySponsored</td>\n",
              "      <td>C2000</td>\n",
              "      <td>Preservation</td>\n",
              "      <td>Trust</td>\n",
              "      <td>1</td>\n",
              "      <td>10000-24999</td>\n",
              "      <td>N</td>\n",
              "      <td>6692</td>\n",
              "      <td>1</td>\n",
              "    </tr>\n",
              "    <tr>\n",
              "      <th>4</th>\n",
              "      <td>10556103</td>\n",
              "      <td>GENETIC RESEARCH INSTITUTE OF THE DESERT</td>\n",
              "      <td>T3</td>\n",
              "      <td>Independent</td>\n",
              "      <td>C1000</td>\n",
              "      <td>Heathcare</td>\n",
              "      <td>Trust</td>\n",
              "      <td>1</td>\n",
              "      <td>100000-499999</td>\n",
              "      <td>N</td>\n",
              "      <td>142590</td>\n",
              "      <td>1</td>\n",
              "    </tr>\n",
              "  </tbody>\n",
              "</table>\n",
              "</div>\n",
              "    <div class=\"colab-df-buttons\">\n",
              "\n",
              "  <div class=\"colab-df-container\">\n",
              "    <button class=\"colab-df-convert\" onclick=\"convertToInteractive('df-0ec390bd-9d28-4542-b7d7-fc2ed75be97a')\"\n",
              "            title=\"Convert this dataframe to an interactive table.\"\n",
              "            style=\"display:none;\">\n",
              "\n",
              "  <svg xmlns=\"http://www.w3.org/2000/svg\" height=\"24px\" viewBox=\"0 -960 960 960\">\n",
              "    <path d=\"M120-120v-720h720v720H120Zm60-500h600v-160H180v160Zm220 220h160v-160H400v160Zm0 220h160v-160H400v160ZM180-400h160v-160H180v160Zm440 0h160v-160H620v160ZM180-180h160v-160H180v160Zm440 0h160v-160H620v160Z\"/>\n",
              "  </svg>\n",
              "    </button>\n",
              "\n",
              "  <style>\n",
              "    .colab-df-container {\n",
              "      display:flex;\n",
              "      gap: 12px;\n",
              "    }\n",
              "\n",
              "    .colab-df-convert {\n",
              "      background-color: #E8F0FE;\n",
              "      border: none;\n",
              "      border-radius: 50%;\n",
              "      cursor: pointer;\n",
              "      display: none;\n",
              "      fill: #1967D2;\n",
              "      height: 32px;\n",
              "      padding: 0 0 0 0;\n",
              "      width: 32px;\n",
              "    }\n",
              "\n",
              "    .colab-df-convert:hover {\n",
              "      background-color: #E2EBFA;\n",
              "      box-shadow: 0px 1px 2px rgba(60, 64, 67, 0.3), 0px 1px 3px 1px rgba(60, 64, 67, 0.15);\n",
              "      fill: #174EA6;\n",
              "    }\n",
              "\n",
              "    .colab-df-buttons div {\n",
              "      margin-bottom: 4px;\n",
              "    }\n",
              "\n",
              "    [theme=dark] .colab-df-convert {\n",
              "      background-color: #3B4455;\n",
              "      fill: #D2E3FC;\n",
              "    }\n",
              "\n",
              "    [theme=dark] .colab-df-convert:hover {\n",
              "      background-color: #434B5C;\n",
              "      box-shadow: 0px 1px 3px 1px rgba(0, 0, 0, 0.15);\n",
              "      filter: drop-shadow(0px 1px 2px rgba(0, 0, 0, 0.3));\n",
              "      fill: #FFFFFF;\n",
              "    }\n",
              "  </style>\n",
              "\n",
              "    <script>\n",
              "      const buttonEl =\n",
              "        document.querySelector('#df-0ec390bd-9d28-4542-b7d7-fc2ed75be97a button.colab-df-convert');\n",
              "      buttonEl.style.display =\n",
              "        google.colab.kernel.accessAllowed ? 'block' : 'none';\n",
              "\n",
              "      async function convertToInteractive(key) {\n",
              "        const element = document.querySelector('#df-0ec390bd-9d28-4542-b7d7-fc2ed75be97a');\n",
              "        const dataTable =\n",
              "          await google.colab.kernel.invokeFunction('convertToInteractive',\n",
              "                                                    [key], {});\n",
              "        if (!dataTable) return;\n",
              "\n",
              "        const docLinkHtml = 'Like what you see? Visit the ' +\n",
              "          '<a target=\"_blank\" href=https://colab.research.google.com/notebooks/data_table.ipynb>data table notebook</a>'\n",
              "          + ' to learn more about interactive tables.';\n",
              "        element.innerHTML = '';\n",
              "        dataTable['output_type'] = 'display_data';\n",
              "        await google.colab.output.renderOutput(dataTable, element);\n",
              "        const docLink = document.createElement('div');\n",
              "        docLink.innerHTML = docLinkHtml;\n",
              "        element.appendChild(docLink);\n",
              "      }\n",
              "    </script>\n",
              "  </div>\n",
              "\n",
              "\n",
              "<div id=\"df-0354c8b4-614f-4f7b-b713-6fc8dfa069de\">\n",
              "  <button class=\"colab-df-quickchart\" onclick=\"quickchart('df-0354c8b4-614f-4f7b-b713-6fc8dfa069de')\"\n",
              "            title=\"Suggest charts\"\n",
              "            style=\"display:none;\">\n",
              "\n",
              "<svg xmlns=\"http://www.w3.org/2000/svg\" height=\"24px\"viewBox=\"0 0 24 24\"\n",
              "     width=\"24px\">\n",
              "    <g>\n",
              "        <path d=\"M19 3H5c-1.1 0-2 .9-2 2v14c0 1.1.9 2 2 2h14c1.1 0 2-.9 2-2V5c0-1.1-.9-2-2-2zM9 17H7v-7h2v7zm4 0h-2V7h2v10zm4 0h-2v-4h2v4z\"/>\n",
              "    </g>\n",
              "</svg>\n",
              "  </button>\n",
              "\n",
              "<style>\n",
              "  .colab-df-quickchart {\n",
              "      --bg-color: #E8F0FE;\n",
              "      --fill-color: #1967D2;\n",
              "      --hover-bg-color: #E2EBFA;\n",
              "      --hover-fill-color: #174EA6;\n",
              "      --disabled-fill-color: #AAA;\n",
              "      --disabled-bg-color: #DDD;\n",
              "  }\n",
              "\n",
              "  [theme=dark] .colab-df-quickchart {\n",
              "      --bg-color: #3B4455;\n",
              "      --fill-color: #D2E3FC;\n",
              "      --hover-bg-color: #434B5C;\n",
              "      --hover-fill-color: #FFFFFF;\n",
              "      --disabled-bg-color: #3B4455;\n",
              "      --disabled-fill-color: #666;\n",
              "  }\n",
              "\n",
              "  .colab-df-quickchart {\n",
              "    background-color: var(--bg-color);\n",
              "    border: none;\n",
              "    border-radius: 50%;\n",
              "    cursor: pointer;\n",
              "    display: none;\n",
              "    fill: var(--fill-color);\n",
              "    height: 32px;\n",
              "    padding: 0;\n",
              "    width: 32px;\n",
              "  }\n",
              "\n",
              "  .colab-df-quickchart:hover {\n",
              "    background-color: var(--hover-bg-color);\n",
              "    box-shadow: 0 1px 2px rgba(60, 64, 67, 0.3), 0 1px 3px 1px rgba(60, 64, 67, 0.15);\n",
              "    fill: var(--button-hover-fill-color);\n",
              "  }\n",
              "\n",
              "  .colab-df-quickchart-complete:disabled,\n",
              "  .colab-df-quickchart-complete:disabled:hover {\n",
              "    background-color: var(--disabled-bg-color);\n",
              "    fill: var(--disabled-fill-color);\n",
              "    box-shadow: none;\n",
              "  }\n",
              "\n",
              "  .colab-df-spinner {\n",
              "    border: 2px solid var(--fill-color);\n",
              "    border-color: transparent;\n",
              "    border-bottom-color: var(--fill-color);\n",
              "    animation:\n",
              "      spin 1s steps(1) infinite;\n",
              "  }\n",
              "\n",
              "  @keyframes spin {\n",
              "    0% {\n",
              "      border-color: transparent;\n",
              "      border-bottom-color: var(--fill-color);\n",
              "      border-left-color: var(--fill-color);\n",
              "    }\n",
              "    20% {\n",
              "      border-color: transparent;\n",
              "      border-left-color: var(--fill-color);\n",
              "      border-top-color: var(--fill-color);\n",
              "    }\n",
              "    30% {\n",
              "      border-color: transparent;\n",
              "      border-left-color: var(--fill-color);\n",
              "      border-top-color: var(--fill-color);\n",
              "      border-right-color: var(--fill-color);\n",
              "    }\n",
              "    40% {\n",
              "      border-color: transparent;\n",
              "      border-right-color: var(--fill-color);\n",
              "      border-top-color: var(--fill-color);\n",
              "    }\n",
              "    60% {\n",
              "      border-color: transparent;\n",
              "      border-right-color: var(--fill-color);\n",
              "    }\n",
              "    80% {\n",
              "      border-color: transparent;\n",
              "      border-right-color: var(--fill-color);\n",
              "      border-bottom-color: var(--fill-color);\n",
              "    }\n",
              "    90% {\n",
              "      border-color: transparent;\n",
              "      border-bottom-color: var(--fill-color);\n",
              "    }\n",
              "  }\n",
              "</style>\n",
              "\n",
              "  <script>\n",
              "    async function quickchart(key) {\n",
              "      const quickchartButtonEl =\n",
              "        document.querySelector('#' + key + ' button');\n",
              "      quickchartButtonEl.disabled = true;  // To prevent multiple clicks.\n",
              "      quickchartButtonEl.classList.add('colab-df-spinner');\n",
              "      try {\n",
              "        const charts = await google.colab.kernel.invokeFunction(\n",
              "            'suggestCharts', [key], {});\n",
              "      } catch (error) {\n",
              "        console.error('Error during call to suggestCharts:', error);\n",
              "      }\n",
              "      quickchartButtonEl.classList.remove('colab-df-spinner');\n",
              "      quickchartButtonEl.classList.add('colab-df-quickchart-complete');\n",
              "    }\n",
              "    (() => {\n",
              "      let quickchartButtonEl =\n",
              "        document.querySelector('#df-0354c8b4-614f-4f7b-b713-6fc8dfa069de button');\n",
              "      quickchartButtonEl.style.display =\n",
              "        google.colab.kernel.accessAllowed ? 'block' : 'none';\n",
              "    })();\n",
              "  </script>\n",
              "</div>\n",
              "\n",
              "    </div>\n",
              "  </div>\n"
            ],
            "application/vnd.google.colaboratory.intrinsic+json": {
              "type": "dataframe",
              "variable_name": "application_df",
              "summary": "{\n  \"name\": \"application_df\",\n  \"rows\": 34299,\n  \"fields\": [\n    {\n      \"column\": \"EIN\",\n      \"properties\": {\n        \"dtype\": \"number\",\n        \"std\": 245147183,\n        \"min\": 10520599,\n        \"max\": 996086871,\n        \"num_unique_values\": 34299,\n        \"samples\": [\n          271598055,\n          900109768,\n          352562499\n        ],\n        \"semantic_type\": \"\",\n        \"description\": \"\"\n      }\n    },\n    {\n      \"column\": \"NAME\",\n      \"properties\": {\n        \"dtype\": \"string\",\n        \"num_unique_values\": 19568,\n        \"samples\": [\n          \"LOCAL 12 USW GOODYEAR INSTITUTE FORCAREER DEVELOPMENT\",\n          \"INTERNATION ASSOCIATION OF ELECTRICAL INSPECTORS\",\n          \"BRICKLAYERS & ALLIED CRAFTWORKERS LOCAL 13 VACATION FUND\"\n        ],\n        \"semantic_type\": \"\",\n        \"description\": \"\"\n      }\n    },\n    {\n      \"column\": \"APPLICATION_TYPE\",\n      \"properties\": {\n        \"dtype\": \"category\",\n        \"num_unique_values\": 17,\n        \"samples\": [\n          \"T10\",\n          \"T3\",\n          \"T6\"\n        ],\n        \"semantic_type\": \"\",\n        \"description\": \"\"\n      }\n    },\n    {\n      \"column\": \"AFFILIATION\",\n      \"properties\": {\n        \"dtype\": \"category\",\n        \"num_unique_values\": 6,\n        \"samples\": [\n          \"Independent\",\n          \"CompanySponsored\",\n          \"Other\"\n        ],\n        \"semantic_type\": \"\",\n        \"description\": \"\"\n      }\n    },\n    {\n      \"column\": \"CLASSIFICATION\",\n      \"properties\": {\n        \"dtype\": \"category\",\n        \"num_unique_values\": 71,\n        \"samples\": [\n          \"C1500\",\n          \"C1000\",\n          \"C1570\"\n        ],\n        \"semantic_type\": \"\",\n        \"description\": \"\"\n      }\n    },\n    {\n      \"column\": \"USE_CASE\",\n      \"properties\": {\n        \"dtype\": \"category\",\n        \"num_unique_values\": 5,\n        \"samples\": [\n          \"Preservation\",\n          \"Other\",\n          \"Heathcare\"\n        ],\n        \"semantic_type\": \"\",\n        \"description\": \"\"\n      }\n    },\n    {\n      \"column\": \"ORGANIZATION\",\n      \"properties\": {\n        \"dtype\": \"category\",\n        \"num_unique_values\": 4,\n        \"samples\": [\n          \"Co-operative\",\n          \"Corporation\",\n          \"Association\"\n        ],\n        \"semantic_type\": \"\",\n        \"description\": \"\"\n      }\n    },\n    {\n      \"column\": \"STATUS\",\n      \"properties\": {\n        \"dtype\": \"number\",\n        \"std\": 0,\n        \"min\": 0,\n        \"max\": 1,\n        \"num_unique_values\": 2,\n        \"samples\": [\n          0,\n          1\n        ],\n        \"semantic_type\": \"\",\n        \"description\": \"\"\n      }\n    },\n    {\n      \"column\": \"INCOME_AMT\",\n      \"properties\": {\n        \"dtype\": \"category\",\n        \"num_unique_values\": 9,\n        \"samples\": [\n          \"1M-5M\",\n          \"1-9999\"\n        ],\n        \"semantic_type\": \"\",\n        \"description\": \"\"\n      }\n    },\n    {\n      \"column\": \"SPECIAL_CONSIDERATIONS\",\n      \"properties\": {\n        \"dtype\": \"category\",\n        \"num_unique_values\": 2,\n        \"samples\": [\n          \"Y\",\n          \"N\"\n        ],\n        \"semantic_type\": \"\",\n        \"description\": \"\"\n      }\n    },\n    {\n      \"column\": \"ASK_AMT\",\n      \"properties\": {\n        \"dtype\": \"number\",\n        \"std\": 87130452,\n        \"min\": 5000,\n        \"max\": 8597806340,\n        \"num_unique_values\": 8747,\n        \"samples\": [\n          1328927,\n          42942\n        ],\n        \"semantic_type\": \"\",\n        \"description\": \"\"\n      }\n    },\n    {\n      \"column\": \"IS_SUCCESSFUL\",\n      \"properties\": {\n        \"dtype\": \"number\",\n        \"std\": 0,\n        \"min\": 0,\n        \"max\": 1,\n        \"num_unique_values\": 2,\n        \"samples\": [\n          0,\n          1\n        ],\n        \"semantic_type\": \"\",\n        \"description\": \"\"\n      }\n    }\n  ]\n}"
            }
          },
          "metadata": {},
          "execution_count": 1
        }
      ],
      "source": [
        "# Import our dependencies\n",
        "from sklearn.model_selection import train_test_split\n",
        "from sklearn.preprocessing import StandardScaler\n",
        "import pandas as pd\n",
        "import tensorflow as tf\n",
        "\n",
        "#  Import and read the charity_data.csv.\n",
        "import pandas as pd\n",
        "application_df = pd.read_csv(\"https://static.bc-edx.com/data/dl-1-2/m21/lms/starter/charity_data.csv\")\n",
        "application_df.head()"
      ]
    },
    {
      "cell_type": "code",
      "execution_count": 2,
      "metadata": {
        "id": "6sBdGdbu1hrf"
      },
      "outputs": [],
      "source": [
        "# Drop the non-beneficial ID columns, 'EIN' not 'NAME'\n",
        "application_df.drop(columns=[\"EIN\"], inplace=True)"
      ]
    },
    {
      "cell_type": "code",
      "source": [
        "# Look at name value counts for binning\n",
        "name_counts = application_df['NAME'].value_counts()\n",
        "print(name_counts)"
      ],
      "metadata": {
        "colab": {
          "base_uri": "https://localhost:8080/"
        },
        "id": "Wo1A8w9dOD3K",
        "outputId": "2213eb0e-c09e-40ec-a1ed-b8be91bd8452"
      },
      "execution_count": 3,
      "outputs": [
        {
          "output_type": "stream",
          "name": "stdout",
          "text": [
            "NAME\n",
            "PARENT BOOSTER USA INC                                     1260\n",
            "TOPS CLUB INC                                               765\n",
            "UNITED STATES BOWLING CONGRESS INC                          700\n",
            "WASHINGTON STATE UNIVERSITY                                 492\n",
            "AMATEUR ATHLETIC UNION OF THE UNITED STATES INC             408\n",
            "                                                           ... \n",
            "NEW MEXICO ASSOCIATION OF INDEPENDENT SCHOOLS INC             1\n",
            "DC COUNCIL MINISTRIES                                         1\n",
            "CHRISTIANS AGAINST GUN VIOLENCE ENDAGERING OUR CHILDREN       1\n",
            "MCKINNEY CITIZENS FIRE ACADEMY ALUMNI ASSOCIATION             1\n",
            "AIESEC ALUMNI IBEROAMERICA CORP                               1\n",
            "Name: count, Length: 19568, dtype: int64\n"
          ]
        }
      ]
    },
    {
      "cell_type": "code",
      "source": [
        "name_counts = application_df['NAME'].value_counts()\n",
        "name_counts_greater_than_1 = name_counts[name_counts >100]\n",
        "print(name_counts_greater_than_1)"
      ],
      "metadata": {
        "colab": {
          "base_uri": "https://localhost:8080/"
        },
        "id": "NudfdMnNSQlb",
        "outputId": "6aa5b7e4-3261-46b9-8ac6-ccf13b4896c9"
      },
      "execution_count": 11,
      "outputs": [
        {
          "output_type": "stream",
          "name": "stdout",
          "text": [
            "NAME\n",
            "PARENT BOOSTER USA INC                                                1260\n",
            "TOPS CLUB INC                                                          765\n",
            "UNITED STATES BOWLING CONGRESS INC                                     700\n",
            "WASHINGTON STATE UNIVERSITY                                            492\n",
            "AMATEUR ATHLETIC UNION OF THE UNITED STATES INC                        408\n",
            "PTA TEXAS CONGRESS                                                     368\n",
            "SOROPTIMIST INTERNATIONAL OF THE AMERICAS INC                          331\n",
            "ALPHA PHI SIGMA                                                        313\n",
            "TOASTMASTERS INTERNATIONAL                                             293\n",
            "MOST WORSHIPFUL STRINGER FREE AND ACCEPTED MASONS                      287\n",
            "LITTLE LEAGUE BASEBALL INC                                             277\n",
            "INTERNATIONAL ASSOCIATION OF LIONS CLUBS                               266\n",
            "MOMS CLUB                                                              210\n",
            "INTERNATIONAL ASSOCIATION OF SHEET METAL AIR RAIL & TRANSPORTATION     206\n",
            "AMERICAN ASSOCIATION OF UNIVERSITY WOMEN                               197\n",
            "FARMERS EDUCATIONAL AND COOPERATIVE UNION OF AMERICA                   166\n",
            "KNIGHTS OF COLUMBUS                                                    158\n",
            "HABITAT FOR HUMANITY INTERNATIONAL INC                                 154\n",
            "TENNESSEE ORDER OF THE EASTERN STAR                                    151\n",
            "VETERANS OF FOREIGN WARS OF THE UNITED STATES AUXILIARY                144\n",
            "PTA UTAH CONGRESS                                                      140\n",
            "THE UNITED STATES PONY CLUBS INC                                       136\n",
            "CIVITAN INTERNATIONAL                                                  131\n",
            "SIGMA BETA DELTA INC                                                   127\n",
            "MONTANA 4-H FOUNDATION INC                                             107\n",
            "HONOR SOCIETY OF PHI KAPPA PHI                                         107\n",
            "WASHINGTON STATE GRANGE                                                106\n",
            "UNIVERSITY OF WYOMING                                                  105\n",
            "DEMOLAY INTERNATIONAL                                                  104\n",
            "SERTOMA INC                                                            103\n",
            "Name: count, dtype: int64\n"
          ]
        }
      ]
    },
    {
      "cell_type": "code",
      "source": [
        "# Choose a cutoff value and create a list of name to be replaced\n",
        "# use the variable name `name_to_replace`\n",
        "cutoff_value= 100\n",
        "name_to_replace= application_df[\"NAME\"].value_counts()[application_df['NAME'].value_counts()< cutoff_value].index\n",
        "# Replace in dataframe\n",
        "for name in name_to_replace:\n",
        "    application_df['NAME'] = application_df['NAME'].replace(name,\"Other\")\n",
        "# Drop rows with \"Other\" in the \"NAME\" column\n",
        "application_df = application_df[application_df[\"NAME\"] != \"Other\"]\n",
        "\n",
        "# Check to make sure binning was successful\n",
        "application_df['NAME'].value_counts()"
      ],
      "metadata": {
        "colab": {
          "base_uri": "https://localhost:8080/"
        },
        "id": "gBWgyMzROOAG",
        "outputId": "5d736a8e-c7ea-47bc-de1a-4cd18ad21563"
      },
      "execution_count": 12,
      "outputs": [
        {
          "output_type": "execute_result",
          "data": {
            "text/plain": [
              "NAME\n",
              "PARENT BOOSTER USA INC                                                1260\n",
              "TOPS CLUB INC                                                          765\n",
              "UNITED STATES BOWLING CONGRESS INC                                     700\n",
              "WASHINGTON STATE UNIVERSITY                                            492\n",
              "AMATEUR ATHLETIC UNION OF THE UNITED STATES INC                        408\n",
              "PTA TEXAS CONGRESS                                                     368\n",
              "SOROPTIMIST INTERNATIONAL OF THE AMERICAS INC                          331\n",
              "ALPHA PHI SIGMA                                                        313\n",
              "TOASTMASTERS INTERNATIONAL                                             293\n",
              "MOST WORSHIPFUL STRINGER FREE AND ACCEPTED MASONS                      287\n",
              "LITTLE LEAGUE BASEBALL INC                                             277\n",
              "INTERNATIONAL ASSOCIATION OF LIONS CLUBS                               266\n",
              "MOMS CLUB                                                              210\n",
              "INTERNATIONAL ASSOCIATION OF SHEET METAL AIR RAIL & TRANSPORTATION     206\n",
              "AMERICAN ASSOCIATION OF UNIVERSITY WOMEN                               197\n",
              "FARMERS EDUCATIONAL AND COOPERATIVE UNION OF AMERICA                   166\n",
              "KNIGHTS OF COLUMBUS                                                    158\n",
              "HABITAT FOR HUMANITY INTERNATIONAL INC                                 154\n",
              "TENNESSEE ORDER OF THE EASTERN STAR                                    151\n",
              "VETERANS OF FOREIGN WARS OF THE UNITED STATES AUXILIARY                144\n",
              "PTA UTAH CONGRESS                                                      140\n",
              "THE UNITED STATES PONY CLUBS INC                                       136\n",
              "CIVITAN INTERNATIONAL                                                  131\n",
              "SIGMA BETA DELTA INC                                                   127\n",
              "MONTANA 4-H FOUNDATION INC                                             107\n",
              "HONOR SOCIETY OF PHI KAPPA PHI                                         107\n",
              "WASHINGTON STATE GRANGE                                                106\n",
              "UNIVERSITY OF WYOMING                                                  105\n",
              "DEMOLAY INTERNATIONAL                                                  104\n",
              "SERTOMA INC                                                            103\n",
              "Name: count, dtype: int64"
            ]
          },
          "metadata": {},
          "execution_count": 12
        }
      ]
    },
    {
      "cell_type": "code",
      "source": [
        "# Look at ASK_AMT value counts for binning\n",
        "ask_amt_counts = application_df['ASK_AMT'].value_counts()\n",
        "print(ask_amt_counts)"
      ],
      "metadata": {
        "colab": {
          "base_uri": "https://localhost:8080/"
        },
        "id": "Kumpnwe5MpUW",
        "outputId": "5b03c167-d821-4d60-ae23-f1c6d10babed"
      },
      "execution_count": 13,
      "outputs": [
        {
          "output_type": "stream",
          "name": "stdout",
          "text": [
            "ASK_AMT\n",
            "5000      7387\n",
            "32807        2\n",
            "15039        2\n",
            "59711        1\n",
            "26039        1\n",
            "          ... \n",
            "272119       1\n",
            "40899        1\n",
            "27376        1\n",
            "5759         1\n",
            "10196        1\n",
            "Name: count, Length: 924, dtype: int64\n"
          ]
        }
      ]
    },
    {
      "cell_type": "code",
      "source": [
        "# Choose a cutoff value and create a list of ask amount to be replaced\n",
        "# use the variable name `ask_amt_to_replace`\n",
        "cutoff_value= 5000\n",
        "ask_amt_to_replace= application_df[\"ASK_AMT\"].value_counts()[application_df['ASK_AMT'].value_counts()< cutoff_value].index\n",
        "# Replace in dataframe\n",
        "for ask in ask_amt_to_replace:\n",
        "    application_df['ASK_AMT'] = application_df['ASK_AMT'].replace(ask,\"Other\")\n",
        "\n",
        "# Check to make sure binning was successful\n",
        "application_df['ASK_AMT'].value_counts()"
      ],
      "metadata": {
        "colab": {
          "base_uri": "https://localhost:8080/"
        },
        "id": "_rqbrMDyNB0T",
        "outputId": "d4c5cc32-62f3-4fe6-d768-0b309ad92970"
      },
      "execution_count": 14,
      "outputs": [
        {
          "output_type": "execute_result",
          "data": {
            "text/plain": [
              "ASK_AMT\n",
              "5000     7387\n",
              "Other     925\n",
              "Name: count, dtype: int64"
            ]
          },
          "metadata": {},
          "execution_count": 14
        }
      ]
    },
    {
      "cell_type": "code",
      "execution_count": 15,
      "metadata": {
        "colab": {
          "base_uri": "https://localhost:8080/"
        },
        "id": "CRVJiJet1hrg",
        "outputId": "0b35ff80-fb69-4374-fd54-d07116d487b1"
      },
      "outputs": [
        {
          "output_type": "execute_result",
          "data": {
            "text/plain": [
              "APPLICATION_TYPE\n",
              "T3       6588\n",
              "Other    1216\n",
              "T4        508\n",
              "Name: count, dtype: int64"
            ]
          },
          "metadata": {},
          "execution_count": 15
        }
      ],
      "source": [
        "# Choose a cutoff value and create a list of application types to be replaced\n",
        "# use the variable name `application_types_to_replace`\n",
        "cutoff_value= 500\n",
        "application_types_to_replace= application_df[\"APPLICATION_TYPE\"].value_counts()[application_df['APPLICATION_TYPE'].value_counts()< cutoff_value].index\n",
        "# Replace in dataframe\n",
        "for app in application_types_to_replace:\n",
        "    application_df['APPLICATION_TYPE'] = application_df['APPLICATION_TYPE'].replace(app,\"Other\")\n",
        "\n",
        "# Check to make sure binning was successful\n",
        "application_df['APPLICATION_TYPE'].value_counts()"
      ]
    },
    {
      "cell_type": "code",
      "execution_count": 16,
      "metadata": {
        "colab": {
          "base_uri": "https://localhost:8080/"
        },
        "id": "i02FJJk41hrh",
        "outputId": "5a4871d6-7e62-4372-9854-4044af4df53e"
      },
      "outputs": [
        {
          "output_type": "execute_result",
          "data": {
            "text/plain": [
              "CLASSIFICATION\n",
              "C1000    3065\n",
              "C1200    1629\n",
              "C2100    1452\n",
              "C2000    1421\n",
              "C3000     636\n",
              "Other     109\n",
              "Name: count, dtype: int64"
            ]
          },
          "metadata": {},
          "execution_count": 16
        }
      ],
      "source": [
        "# Choose a cutoff value and create a list of classifications to be replaced\n",
        "# use the variable name `classifications_to_replace`\n",
        "cutoff_value_cls= 600\n",
        "classifications_to_replace = application_df['CLASSIFICATION'].value_counts()[application_df['CLASSIFICATION'].value_counts() < cutoff_value_cls].index.tolist()\n",
        "\n",
        "# Replace in dataframe\n",
        "for cls in classifications_to_replace:\n",
        "    application_df['CLASSIFICATION'] = application_df['CLASSIFICATION'].replace(cls,\"Other\")\n",
        "\n",
        "# Check to make sure binning was successful\n",
        "application_df['CLASSIFICATION'].value_counts()"
      ]
    },
    {
      "cell_type": "code",
      "execution_count": 17,
      "metadata": {
        "id": "PGZJ0Vdr1hrh"
      },
      "outputs": [],
      "source": [
        "# Convert categorical data to numeric with `pd.get_dummies`\n",
        "application_df= pd.get_dummies(application_df,dtype=float)\n",
        "# application_df.head()"
      ]
    },
    {
      "cell_type": "code",
      "execution_count": 18,
      "metadata": {
        "id": "u6JiiPdi1hrh"
      },
      "outputs": [],
      "source": [
        "# Split our preprocessed data into our features and target arrays\n",
        "y= application_df[\"IS_SUCCESSFUL\"]\n",
        "X= application_df.drop(columns=[\"IS_SUCCESSFUL\"])\n",
        "\n",
        "# Split the preprocessed data into a training and testing dataset\n",
        "X_train, X_test, y_train, y_test = train_test_split(X, y, random_state=42)"
      ]
    },
    {
      "cell_type": "code",
      "execution_count": 19,
      "metadata": {
        "id": "ubkUKeKp1hrh"
      },
      "outputs": [],
      "source": [
        "# Create a StandardScaler instances\n",
        "scaler = StandardScaler()\n",
        "\n",
        "# Fit the StandardScaler\n",
        "X_scaler = scaler.fit(X_train)\n",
        "\n",
        "# Scale the data\n",
        "X_train_scaled = X_scaler.transform(X_train)\n",
        "X_test_scaled = X_scaler.transform(X_test)"
      ]
    },
    {
      "cell_type": "markdown",
      "source": [
        "# Updated training model to increase performance"
      ],
      "metadata": {
        "id": "QT7kmOmJke92"
      }
    },
    {
      "cell_type": "code",
      "execution_count": 20,
      "metadata": {
        "colab": {
          "base_uri": "https://localhost:8080/"
        },
        "id": "kShovt4s1hrh",
        "outputId": "0d8d1bd6-cef1-482c-81d7-796ff85568ad"
      },
      "outputs": [
        {
          "output_type": "stream",
          "name": "stdout",
          "text": [
            "Model: \"sequential\"\n",
            "_________________________________________________________________\n",
            " Layer (type)                Output Shape              Param #   \n",
            "=================================================================\n",
            " dense (Dense)               (None, 100)               6300      \n",
            "                                                                 \n",
            " dense_1 (Dense)             (None, 80)                8080      \n",
            "                                                                 \n",
            " dense_2 (Dense)             (None, 80)                6480      \n",
            "                                                                 \n",
            " dense_3 (Dense)             (None, 80)                6480      \n",
            "                                                                 \n",
            " dense_4 (Dense)             (None, 1)                 81        \n",
            "                                                                 \n",
            "=================================================================\n",
            "Total params: 27421 (107.11 KB)\n",
            "Trainable params: 27421 (107.11 KB)\n",
            "Non-trainable params: 0 (0.00 Byte)\n",
            "_________________________________________________________________\n"
          ]
        }
      ],
      "source": [
        "# Define the model - deep neural net, i.e., the number of input features and hidden nodes for each layer.\n",
        "number_input_features = len(X_train_scaled[0])\n",
        "hidden_nodes_layer1 =  100\n",
        "hidden_nodes_layer2 = 80\n",
        "hidden_nodes_layer3 = 80\n",
        "hidden_nodes_layer4 = 80\n",
        "\n",
        "nn = tf.keras.models.Sequential()\n",
        "\n",
        "# First hidden layer\n",
        "nn.add(tf.keras.layers.Dense(units=hidden_nodes_layer1, input_dim=number_input_features, activation=\"relu\"))\n",
        "\n",
        "# Second hidden layer\n",
        "nn.add(tf.keras.layers.Dense(units=hidden_nodes_layer2, activation=\"relu\"))\n",
        "\n",
        "# Third hidden layer\n",
        "nn.add(tf.keras.layers.Dense(units=hidden_nodes_layer3, activation=\"relu\"))\n",
        "\n",
        "# Fourth hidden layer\n",
        "nn.add(tf.keras.layers.Dense(units=hidden_nodes_layer4, activation=\"relu\"))\n",
        "\n",
        "# Output layer\n",
        "nn.add(tf.keras.layers.Dense(units=1, activation=\"sigmoid\"))\n",
        "\n",
        "# Check the structure of the model\n",
        "nn.summary()"
      ]
    },
    {
      "cell_type": "markdown",
      "metadata": {
        "id": "q312FYtU1hrh"
      },
      "source": [
        "## Compile, Train and Evaluate the Model"
      ]
    },
    {
      "cell_type": "code",
      "execution_count": 21,
      "metadata": {
        "id": "eyuisAou1hrh"
      },
      "outputs": [],
      "source": [
        "# Compile the model\n",
        "nn.compile(loss=\"binary_crossentropy\", optimizer=\"adam\", metrics=[\"accuracy\"])"
      ]
    },
    {
      "cell_type": "code",
      "execution_count": 22,
      "metadata": {
        "colab": {
          "base_uri": "https://localhost:8080/"
        },
        "id": "SaorJyQw1hri",
        "outputId": "1089c51d-5f26-4397-ecbf-717e496a1073",
        "collapsed": true
      },
      "outputs": [
        {
          "output_type": "stream",
          "name": "stdout",
          "text": [
            "Epoch 1/150\n",
            "195/195 [==============================] - 3s 4ms/step - loss: 0.2671 - accuracy: 0.8994\n",
            "Epoch 2/150\n",
            "195/195 [==============================] - 1s 4ms/step - loss: 0.2167 - accuracy: 0.9169\n",
            "Epoch 3/150\n",
            "195/195 [==============================] - 1s 5ms/step - loss: 0.2121 - accuracy: 0.9174\n",
            "Epoch 4/150\n",
            "195/195 [==============================] - 1s 6ms/step - loss: 0.2103 - accuracy: 0.9203\n",
            "Epoch 5/150\n",
            "195/195 [==============================] - 1s 5ms/step - loss: 0.2077 - accuracy: 0.9209\n",
            "Epoch 6/150\n",
            "195/195 [==============================] - 1s 4ms/step - loss: 0.2069 - accuracy: 0.9190\n",
            "Epoch 7/150\n",
            "195/195 [==============================] - 1s 4ms/step - loss: 0.2063 - accuracy: 0.9216\n",
            "Epoch 8/150\n",
            "195/195 [==============================] - 1s 4ms/step - loss: 0.2052 - accuracy: 0.9212\n",
            "Epoch 9/150\n",
            "195/195 [==============================] - 1s 4ms/step - loss: 0.2046 - accuracy: 0.9216\n",
            "Epoch 10/150\n",
            "195/195 [==============================] - 1s 4ms/step - loss: 0.2049 - accuracy: 0.9193\n",
            "Epoch 11/150\n",
            "195/195 [==============================] - 1s 4ms/step - loss: 0.2040 - accuracy: 0.9193\n",
            "Epoch 12/150\n",
            "195/195 [==============================] - 1s 4ms/step - loss: 0.2041 - accuracy: 0.9225\n",
            "Epoch 13/150\n",
            "195/195 [==============================] - 1s 4ms/step - loss: 0.2029 - accuracy: 0.9217\n",
            "Epoch 14/150\n",
            "195/195 [==============================] - 1s 4ms/step - loss: 0.2028 - accuracy: 0.9203\n",
            "Epoch 15/150\n",
            "195/195 [==============================] - 1s 4ms/step - loss: 0.2030 - accuracy: 0.9208\n",
            "Epoch 16/150\n",
            "195/195 [==============================] - 1s 4ms/step - loss: 0.2039 - accuracy: 0.9214\n",
            "Epoch 17/150\n",
            "195/195 [==============================] - 1s 4ms/step - loss: 0.2021 - accuracy: 0.9206\n",
            "Epoch 18/150\n",
            "195/195 [==============================] - 1s 5ms/step - loss: 0.2022 - accuracy: 0.9206\n",
            "Epoch 19/150\n",
            "195/195 [==============================] - 1s 6ms/step - loss: 0.2025 - accuracy: 0.9220\n",
            "Epoch 20/150\n",
            "195/195 [==============================] - 1s 5ms/step - loss: 0.2024 - accuracy: 0.9214\n",
            "Epoch 21/150\n",
            "195/195 [==============================] - 1s 4ms/step - loss: 0.2022 - accuracy: 0.9217\n",
            "Epoch 22/150\n",
            "195/195 [==============================] - 1s 4ms/step - loss: 0.2012 - accuracy: 0.9209\n",
            "Epoch 23/150\n",
            "195/195 [==============================] - 1s 4ms/step - loss: 0.2026 - accuracy: 0.9224\n",
            "Epoch 24/150\n",
            "195/195 [==============================] - 1s 4ms/step - loss: 0.2004 - accuracy: 0.9214\n",
            "Epoch 25/150\n",
            "195/195 [==============================] - 1s 4ms/step - loss: 0.2013 - accuracy: 0.9216\n",
            "Epoch 26/150\n",
            "195/195 [==============================] - 1s 4ms/step - loss: 0.1998 - accuracy: 0.9224\n",
            "Epoch 27/150\n",
            "195/195 [==============================] - 1s 4ms/step - loss: 0.2009 - accuracy: 0.9224\n",
            "Epoch 28/150\n",
            "195/195 [==============================] - 1s 4ms/step - loss: 0.1997 - accuracy: 0.9217\n",
            "Epoch 29/150\n",
            "195/195 [==============================] - 1s 4ms/step - loss: 0.2002 - accuracy: 0.9230\n",
            "Epoch 30/150\n",
            "195/195 [==============================] - 1s 4ms/step - loss: 0.1994 - accuracy: 0.9209\n",
            "Epoch 31/150\n",
            "195/195 [==============================] - 1s 4ms/step - loss: 0.1997 - accuracy: 0.9212\n",
            "Epoch 32/150\n",
            "195/195 [==============================] - 1s 4ms/step - loss: 0.2002 - accuracy: 0.9225\n",
            "Epoch 33/150\n",
            "195/195 [==============================] - 1s 5ms/step - loss: 0.1989 - accuracy: 0.9224\n",
            "Epoch 34/150\n",
            "195/195 [==============================] - 1s 6ms/step - loss: 0.1999 - accuracy: 0.9220\n",
            "Epoch 35/150\n",
            "195/195 [==============================] - 1s 4ms/step - loss: 0.2001 - accuracy: 0.9219\n",
            "Epoch 36/150\n",
            "195/195 [==============================] - 1s 4ms/step - loss: 0.1993 - accuracy: 0.9216\n",
            "Epoch 37/150\n",
            "195/195 [==============================] - 1s 4ms/step - loss: 0.1987 - accuracy: 0.9227\n",
            "Epoch 38/150\n",
            "195/195 [==============================] - 1s 4ms/step - loss: 0.1979 - accuracy: 0.9224\n",
            "Epoch 39/150\n",
            "195/195 [==============================] - 1s 4ms/step - loss: 0.1984 - accuracy: 0.9227\n",
            "Epoch 40/150\n",
            "195/195 [==============================] - 1s 4ms/step - loss: 0.1989 - accuracy: 0.9230\n",
            "Epoch 41/150\n",
            "195/195 [==============================] - 1s 4ms/step - loss: 0.1989 - accuracy: 0.9217\n",
            "Epoch 42/150\n",
            "195/195 [==============================] - 1s 4ms/step - loss: 0.1986 - accuracy: 0.9217\n",
            "Epoch 43/150\n",
            "195/195 [==============================] - 1s 4ms/step - loss: 0.1982 - accuracy: 0.9222\n",
            "Epoch 44/150\n",
            "195/195 [==============================] - 1s 4ms/step - loss: 0.1968 - accuracy: 0.9233\n",
            "Epoch 45/150\n",
            "195/195 [==============================] - 1s 4ms/step - loss: 0.1975 - accuracy: 0.9228\n",
            "Epoch 46/150\n",
            "195/195 [==============================] - 1s 4ms/step - loss: 0.1981 - accuracy: 0.9228\n",
            "Epoch 47/150\n",
            "195/195 [==============================] - 1s 4ms/step - loss: 0.1965 - accuracy: 0.9232\n",
            "Epoch 48/150\n",
            "195/195 [==============================] - 1s 5ms/step - loss: 0.1992 - accuracy: 0.9230\n",
            "Epoch 49/150\n",
            "195/195 [==============================] - 1s 6ms/step - loss: 0.1982 - accuracy: 0.9227\n",
            "Epoch 50/150\n",
            "195/195 [==============================] - 1s 4ms/step - loss: 0.1978 - accuracy: 0.9219\n",
            "Epoch 51/150\n",
            "195/195 [==============================] - 1s 4ms/step - loss: 0.1974 - accuracy: 0.9232\n",
            "Epoch 52/150\n",
            "195/195 [==============================] - 1s 4ms/step - loss: 0.1969 - accuracy: 0.9232\n",
            "Epoch 53/150\n",
            "195/195 [==============================] - 1s 4ms/step - loss: 0.1976 - accuracy: 0.9224\n",
            "Epoch 54/150\n",
            "195/195 [==============================] - 1s 4ms/step - loss: 0.1980 - accuracy: 0.9222\n",
            "Epoch 55/150\n",
            "195/195 [==============================] - 1s 4ms/step - loss: 0.1988 - accuracy: 0.9216\n",
            "Epoch 56/150\n",
            "195/195 [==============================] - 1s 4ms/step - loss: 0.1970 - accuracy: 0.9228\n",
            "Epoch 57/150\n",
            "195/195 [==============================] - 1s 4ms/step - loss: 0.1991 - accuracy: 0.9227\n",
            "Epoch 58/150\n",
            "195/195 [==============================] - 1s 4ms/step - loss: 0.2035 - accuracy: 0.9228\n",
            "Epoch 59/150\n",
            "195/195 [==============================] - 1s 4ms/step - loss: 0.2001 - accuracy: 0.9211\n",
            "Epoch 60/150\n",
            "195/195 [==============================] - 1s 4ms/step - loss: 0.1979 - accuracy: 0.9222\n",
            "Epoch 61/150\n",
            "195/195 [==============================] - 1s 4ms/step - loss: 0.1970 - accuracy: 0.9222\n",
            "Epoch 62/150\n",
            "195/195 [==============================] - 1s 4ms/step - loss: 0.1973 - accuracy: 0.9227\n",
            "Epoch 63/150\n",
            "195/195 [==============================] - 1s 6ms/step - loss: 0.1970 - accuracy: 0.9232\n",
            "Epoch 64/150\n",
            "195/195 [==============================] - 1s 6ms/step - loss: 0.1963 - accuracy: 0.9230\n",
            "Epoch 65/150\n",
            "195/195 [==============================] - 1s 4ms/step - loss: 0.1970 - accuracy: 0.9225\n",
            "Epoch 66/150\n",
            "195/195 [==============================] - 1s 4ms/step - loss: 0.1969 - accuracy: 0.9228\n",
            "Epoch 67/150\n",
            "195/195 [==============================] - 1s 4ms/step - loss: 0.1961 - accuracy: 0.9228\n",
            "Epoch 68/150\n",
            "195/195 [==============================] - 1s 4ms/step - loss: 0.1966 - accuracy: 0.9228\n",
            "Epoch 69/150\n",
            "195/195 [==============================] - 1s 4ms/step - loss: 0.1960 - accuracy: 0.9232\n",
            "Epoch 70/150\n",
            "195/195 [==============================] - 1s 4ms/step - loss: 0.1978 - accuracy: 0.9228\n",
            "Epoch 71/150\n",
            "195/195 [==============================] - 1s 4ms/step - loss: 0.1977 - accuracy: 0.9224\n",
            "Epoch 72/150\n",
            "195/195 [==============================] - 1s 4ms/step - loss: 0.1979 - accuracy: 0.9217\n",
            "Epoch 73/150\n",
            "195/195 [==============================] - 1s 4ms/step - loss: 0.1968 - accuracy: 0.9222\n",
            "Epoch 74/150\n",
            "195/195 [==============================] - 1s 4ms/step - loss: 0.1969 - accuracy: 0.9230\n",
            "Epoch 75/150\n",
            "195/195 [==============================] - 1s 4ms/step - loss: 0.1963 - accuracy: 0.9230\n",
            "Epoch 76/150\n",
            "195/195 [==============================] - 1s 4ms/step - loss: 0.1961 - accuracy: 0.9235\n",
            "Epoch 77/150\n",
            "195/195 [==============================] - 1s 4ms/step - loss: 0.1965 - accuracy: 0.9224\n",
            "Epoch 78/150\n",
            "195/195 [==============================] - 1s 5ms/step - loss: 0.1964 - accuracy: 0.9233\n",
            "Epoch 79/150\n",
            "195/195 [==============================] - 1s 7ms/step - loss: 0.1960 - accuracy: 0.9230\n",
            "Epoch 80/150\n",
            "195/195 [==============================] - 1s 4ms/step - loss: 0.1964 - accuracy: 0.9227\n",
            "Epoch 81/150\n",
            "195/195 [==============================] - 1s 4ms/step - loss: 0.1965 - accuracy: 0.9227\n",
            "Epoch 82/150\n",
            "195/195 [==============================] - 1s 4ms/step - loss: 0.1962 - accuracy: 0.9232\n",
            "Epoch 83/150\n",
            "195/195 [==============================] - 1s 4ms/step - loss: 0.1964 - accuracy: 0.9227\n",
            "Epoch 84/150\n",
            "195/195 [==============================] - 1s 4ms/step - loss: 0.1956 - accuracy: 0.9227\n",
            "Epoch 85/150\n",
            "195/195 [==============================] - 1s 4ms/step - loss: 0.1960 - accuracy: 0.9225\n",
            "Epoch 86/150\n",
            "195/195 [==============================] - 1s 4ms/step - loss: 0.1960 - accuracy: 0.9225\n",
            "Epoch 87/150\n",
            "195/195 [==============================] - 1s 4ms/step - loss: 0.1956 - accuracy: 0.9228\n",
            "Epoch 88/150\n",
            "195/195 [==============================] - 1s 4ms/step - loss: 0.1960 - accuracy: 0.9224\n",
            "Epoch 89/150\n",
            "195/195 [==============================] - 1s 4ms/step - loss: 0.1962 - accuracy: 0.9227\n",
            "Epoch 90/150\n",
            "195/195 [==============================] - 1s 4ms/step - loss: 0.1963 - accuracy: 0.9228\n",
            "Epoch 91/150\n",
            "195/195 [==============================] - 1s 4ms/step - loss: 0.1971 - accuracy: 0.9227\n",
            "Epoch 92/150\n",
            "195/195 [==============================] - 1s 4ms/step - loss: 0.1974 - accuracy: 0.9225\n",
            "Epoch 93/150\n",
            "195/195 [==============================] - 1s 6ms/step - loss: 0.1964 - accuracy: 0.9225\n",
            "Epoch 94/150\n",
            "195/195 [==============================] - 1s 6ms/step - loss: 0.1961 - accuracy: 0.9230\n",
            "Epoch 95/150\n",
            "195/195 [==============================] - 1s 4ms/step - loss: 0.1961 - accuracy: 0.9232\n",
            "Epoch 96/150\n",
            "195/195 [==============================] - 1s 4ms/step - loss: 0.1961 - accuracy: 0.9225\n",
            "Epoch 97/150\n",
            "195/195 [==============================] - 1s 4ms/step - loss: 0.1960 - accuracy: 0.9233\n",
            "Epoch 98/150\n",
            "195/195 [==============================] - 1s 4ms/step - loss: 0.1962 - accuracy: 0.9228\n",
            "Epoch 99/150\n",
            "195/195 [==============================] - 1s 4ms/step - loss: 0.1958 - accuracy: 0.9230\n",
            "Epoch 100/150\n",
            "195/195 [==============================] - 1s 4ms/step - loss: 0.1957 - accuracy: 0.9227\n",
            "Epoch 101/150\n",
            "195/195 [==============================] - 1s 4ms/step - loss: 0.1952 - accuracy: 0.9219\n",
            "Epoch 102/150\n",
            "195/195 [==============================] - 1s 4ms/step - loss: 0.1956 - accuracy: 0.9230\n",
            "Epoch 103/150\n",
            "195/195 [==============================] - 1s 4ms/step - loss: 0.1957 - accuracy: 0.9230\n",
            "Epoch 104/150\n",
            "195/195 [==============================] - 1s 4ms/step - loss: 0.1957 - accuracy: 0.9227\n",
            "Epoch 105/150\n",
            "195/195 [==============================] - 1s 4ms/step - loss: 0.1958 - accuracy: 0.9232\n",
            "Epoch 106/150\n",
            "195/195 [==============================] - 1s 4ms/step - loss: 0.1957 - accuracy: 0.9232\n",
            "Epoch 107/150\n",
            "195/195 [==============================] - 1s 4ms/step - loss: 0.1959 - accuracy: 0.9228\n",
            "Epoch 108/150\n",
            "195/195 [==============================] - 1s 6ms/step - loss: 0.1957 - accuracy: 0.9232\n",
            "Epoch 109/150\n",
            "195/195 [==============================] - 1s 5ms/step - loss: 0.1955 - accuracy: 0.9230\n",
            "Epoch 110/150\n",
            "195/195 [==============================] - 1s 4ms/step - loss: 0.1961 - accuracy: 0.9230\n",
            "Epoch 111/150\n",
            "195/195 [==============================] - 1s 4ms/step - loss: 0.1955 - accuracy: 0.9232\n",
            "Epoch 112/150\n",
            "195/195 [==============================] - 1s 4ms/step - loss: 0.1957 - accuracy: 0.9224\n",
            "Epoch 113/150\n",
            "195/195 [==============================] - 1s 4ms/step - loss: 0.1961 - accuracy: 0.9219\n",
            "Epoch 114/150\n",
            "195/195 [==============================] - 1s 4ms/step - loss: 0.1957 - accuracy: 0.9230\n",
            "Epoch 115/150\n",
            "195/195 [==============================] - 1s 4ms/step - loss: 0.1964 - accuracy: 0.9232\n",
            "Epoch 116/150\n",
            "195/195 [==============================] - 1s 4ms/step - loss: 0.1954 - accuracy: 0.9232\n",
            "Epoch 117/150\n",
            "195/195 [==============================] - 1s 4ms/step - loss: 0.1953 - accuracy: 0.9232\n",
            "Epoch 118/150\n",
            "195/195 [==============================] - 1s 4ms/step - loss: 0.1952 - accuracy: 0.9225\n",
            "Epoch 119/150\n",
            "195/195 [==============================] - 1s 4ms/step - loss: 0.1953 - accuracy: 0.9230\n",
            "Epoch 120/150\n",
            "195/195 [==============================] - 1s 4ms/step - loss: 0.1958 - accuracy: 0.9228\n",
            "Epoch 121/150\n",
            "195/195 [==============================] - 1s 4ms/step - loss: 0.1967 - accuracy: 0.9235\n",
            "Epoch 122/150\n",
            "195/195 [==============================] - 1s 5ms/step - loss: 0.1973 - accuracy: 0.9227\n",
            "Epoch 123/150\n",
            "195/195 [==============================] - 1s 6ms/step - loss: 0.1986 - accuracy: 0.9224\n",
            "Epoch 124/150\n",
            "195/195 [==============================] - 1s 5ms/step - loss: 0.2001 - accuracy: 0.9220\n",
            "Epoch 125/150\n",
            "195/195 [==============================] - 1s 4ms/step - loss: 0.1973 - accuracy: 0.9228\n",
            "Epoch 126/150\n",
            "195/195 [==============================] - 1s 4ms/step - loss: 0.1967 - accuracy: 0.9232\n",
            "Epoch 127/150\n",
            "195/195 [==============================] - 1s 4ms/step - loss: 0.1965 - accuracy: 0.9228\n",
            "Epoch 128/150\n",
            "195/195 [==============================] - 1s 4ms/step - loss: 0.1956 - accuracy: 0.9232\n",
            "Epoch 129/150\n",
            "195/195 [==============================] - 1s 4ms/step - loss: 0.1959 - accuracy: 0.9224\n",
            "Epoch 130/150\n",
            "195/195 [==============================] - 1s 4ms/step - loss: 0.1958 - accuracy: 0.9227\n",
            "Epoch 131/150\n",
            "195/195 [==============================] - 1s 4ms/step - loss: 0.1954 - accuracy: 0.9233\n",
            "Epoch 132/150\n",
            "195/195 [==============================] - 1s 4ms/step - loss: 0.1957 - accuracy: 0.9230\n",
            "Epoch 133/150\n",
            "195/195 [==============================] - 1s 4ms/step - loss: 0.1952 - accuracy: 0.9230\n",
            "Epoch 134/150\n",
            "195/195 [==============================] - 1s 4ms/step - loss: 0.1955 - accuracy: 0.9233\n",
            "Epoch 135/150\n",
            "195/195 [==============================] - 1s 4ms/step - loss: 0.1956 - accuracy: 0.9232\n",
            "Epoch 136/150\n",
            "195/195 [==============================] - 1s 4ms/step - loss: 0.1954 - accuracy: 0.9228\n",
            "Epoch 137/150\n",
            "195/195 [==============================] - 1s 6ms/step - loss: 0.1953 - accuracy: 0.9233\n",
            "Epoch 138/150\n",
            "195/195 [==============================] - 1s 6ms/step - loss: 0.1952 - accuracy: 0.9230\n",
            "Epoch 139/150\n",
            "195/195 [==============================] - 1s 4ms/step - loss: 0.1952 - accuracy: 0.9232\n",
            "Epoch 140/150\n",
            "195/195 [==============================] - 1s 4ms/step - loss: 0.1952 - accuracy: 0.9222\n",
            "Epoch 141/150\n",
            "195/195 [==============================] - 1s 4ms/step - loss: 0.1957 - accuracy: 0.9228\n",
            "Epoch 142/150\n",
            "195/195 [==============================] - 1s 4ms/step - loss: 0.1946 - accuracy: 0.9230\n",
            "Epoch 143/150\n",
            "195/195 [==============================] - 1s 4ms/step - loss: 0.1958 - accuracy: 0.9230\n",
            "Epoch 144/150\n",
            "195/195 [==============================] - 1s 4ms/step - loss: 0.1955 - accuracy: 0.9233\n",
            "Epoch 145/150\n",
            "195/195 [==============================] - 1s 4ms/step - loss: 0.1953 - accuracy: 0.9230\n",
            "Epoch 146/150\n",
            "195/195 [==============================] - 1s 4ms/step - loss: 0.1956 - accuracy: 0.9224\n",
            "Epoch 147/150\n",
            "195/195 [==============================] - 1s 4ms/step - loss: 0.1952 - accuracy: 0.9232\n",
            "Epoch 148/150\n",
            "195/195 [==============================] - 1s 4ms/step - loss: 0.1954 - accuracy: 0.9232\n",
            "Epoch 149/150\n",
            "195/195 [==============================] - 1s 4ms/step - loss: 0.1949 - accuracy: 0.9232\n",
            "Epoch 150/150\n",
            "195/195 [==============================] - 1s 4ms/step - loss: 0.1954 - accuracy: 0.9228\n"
          ]
        }
      ],
      "source": [
        "# Train the model\n",
        "fit_model = nn.fit(X_train_scaled,y_train,epochs=150)"
      ]
    },
    {
      "cell_type": "code",
      "execution_count": 23,
      "metadata": {
        "colab": {
          "base_uri": "https://localhost:8080/"
        },
        "id": "NZaSLVrE1hri",
        "outputId": "2dcc17b7-7ac2-4daa-d4bc-b064a282ef9c"
      },
      "outputs": [
        {
          "output_type": "stream",
          "name": "stdout",
          "text": [
            "65/65 - 1s - loss: 0.2813 - accuracy: 0.9143 - 693ms/epoch - 11ms/step\n",
            "Loss: 0.28133079409599304, Accuracy: 0.9143407344818115\n"
          ]
        }
      ],
      "source": [
        "# Evaluate the model using the test data\n",
        "model_loss, model_accuracy = nn.evaluate(X_test_scaled,y_test,verbose=2)\n",
        "print(f\"Loss: {model_loss}, Accuracy: {model_accuracy}\")"
      ]
    },
    {
      "cell_type": "code",
      "execution_count": 24,
      "metadata": {
        "id": "IW_Yx18w1hri",
        "colab": {
          "base_uri": "https://localhost:8080/"
        },
        "outputId": "127de097-64f4-474c-d2fa-495f32afc6a9"
      },
      "outputs": [
        {
          "output_type": "stream",
          "name": "stderr",
          "text": [
            "/usr/local/lib/python3.10/dist-packages/keras/src/engine/training.py:3103: UserWarning: You are saving your model as an HDF5 file via `model.save()`. This file format is considered legacy. We recommend using instead the native Keras format, e.g. `model.save('my_model.keras')`.\n",
            "  saving_api.save_model(\n"
          ]
        }
      ],
      "source": [
        "# Export our model to HDF5 file\n",
        "optimized_model_filename= \"AlphabetSoupCharityOptimization.h5\"\n",
        "nn.save(optimized_model_filename)"
      ]
    },
    {
      "cell_type": "code",
      "source": [],
      "metadata": {
        "id": "5NQCpSCWVAuq"
      },
      "execution_count": null,
      "outputs": []
    }
  ],
  "metadata": {
    "kernelspec": {
      "display_name": "Python 3",
      "name": "python3"
    },
    "language_info": {
      "codemirror_mode": {
        "name": "ipython",
        "version": 3
      },
      "file_extension": ".py",
      "mimetype": "text/x-python",
      "name": "python",
      "nbconvert_exporter": "python",
      "pygments_lexer": "ipython3",
      "version": "3.-1.-1"
    },
    "vscode": {
      "interpreter": {
        "hash": "31f2aee4e71d21fbe5cf8b01ff0e069b9275f58929596ceb00d14d90e3e16cd6"
      }
    },
    "colab": {
      "provenance": [],
      "gpuType": "T4",
      "include_colab_link": true
    },
    "accelerator": "GPU"
  },
  "nbformat": 4,
  "nbformat_minor": 0
}